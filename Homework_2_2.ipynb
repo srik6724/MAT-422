{
  "cells": [
    {
      "cell_type": "markdown",
      "metadata": {
        "id": "view-in-github",
        "colab_type": "text"
      },
      "source": [
        "<a href=\"https://colab.research.google.com/github/srik6724/MAT-422/blob/main/Homework_2_2.ipynb\" target=\"_parent\"><img src=\"https://colab.research.google.com/assets/colab-badge.svg\" alt=\"Open In Colab\"/></a>"
      ]
    },
    {
      "cell_type": "code",
      "execution_count": null,
      "metadata": {
        "colab": {
          "base_uri": "https://localhost:8080/"
        },
        "id": "d7r4S1Vu-Zv7",
        "outputId": "ea71379f-3254-48fd-e1bb-6294f87f03ac"
      },
      "outputs": [
        {
          "name": "stdout",
          "output_type": "stream",
          "text": [
            "Is normalized: True\n",
            "Events are not mutually exclusive\n",
            "Additivity of Heads and Tails: 1.0\n"
          ]
        }
      ],
      "source": [
        "class ProbabilityAxioms:\n",
        "    def __init__(self, sample_space):\n",
        "        self.sample_space = sample_space\n",
        "        self.probabilities = {}\n",
        "\n",
        "    def set_probability(self, event, prob):\n",
        "        if prob < 0:\n",
        "            raise ValueError(\"Probability cannot be negative\")\n",
        "        self.probabilities[event] = prob\n",
        "\n",
        "    def check_normalization(self):\n",
        "        total_prob = sum(self.probabilities.get(event, 0) for event in self.sample_space)\n",
        "        return total_prob == 1\n",
        "\n",
        "    def additivity(self, event_a, event_b):\n",
        "        if set(event_a).intersection(set(event_b)):\n",
        "            print(\"Events are not mutually exclusive\")\n",
        "        prob_a = self.probabilities.get(event_a, 0)\n",
        "        prob_b = self.probabilities.get(event_b, 0)\n",
        "        return prob_a + prob_b\n",
        "\n",
        "\n",
        "sample_space = {\"Heads\", \"Tails\"}\n",
        "\n",
        "prob_system = ProbabilityAxioms(sample_space)\n",
        "\n",
        "prob_system.set_probability(\"Heads\", 0.5)\n",
        "prob_system.set_probability(\"Tails\", 0.5)\n",
        "\n",
        "print(\"Is normalized:\", prob_system.check_normalization())  # True\n",
        "\n",
        "print(\"Additivity of Heads and Tails:\", prob_system.additivity(\"Heads\", \"Tails\"))  # 1.0"
      ]
    },
    {
      "cell_type": "code",
      "execution_count": null,
      "metadata": {
        "colab": {
          "base_uri": "https://localhost:8080/"
        },
        "id": "vqjUJH1sHRe2",
        "outputId": "f0ff5773-a42b-4cd4-ade1-fb607b571375"
      },
      "outputs": [
        {
          "name": "stdout",
          "output_type": "stream",
          "text": [
            "Conditional Probability P(A|B): 0.40\n"
          ]
        }
      ],
      "source": [
        "class ConditionalProbability:\n",
        "    def __init__(self, prob_a, prob_b, prob_a_and_b):\n",
        "        # Initialize with probabilities of A, B, and A and B\n",
        "        self.prob_a = prob_a\n",
        "        self.prob_b = prob_b\n",
        "        self.prob_a_and_b = prob_a_and_b\n",
        "\n",
        "    def calculate_conditional(self):\n",
        "        # Check that P(B) is not zero to avoid division by zero\n",
        "        if self.prob_b == 0:\n",
        "            print(\"The probability of event B cannot be zero.\")\n",
        "\n",
        "        return self.prob_a_and_b / self.prob_b\n",
        "\n",
        "\n",
        "prob_a = 0.3\n",
        "prob_b = 0.5\n",
        "prob_a_and_b = 0.2\n",
        "\n",
        "cond_prob_system = ConditionalProbability(prob_a, prob_b, prob_a_and_b)\n",
        "\n",
        "print(f\"Conditional Probability P(A|B): {cond_prob_system.calculate_conditional():.2f}\")"
      ]
    },
    {
      "cell_type": "code",
      "execution_count": null,
      "metadata": {
        "colab": {
          "base_uri": "https://localhost:8080/"
        },
        "id": "Lh59LBjFI3UU",
        "outputId": "f98f6ba1-c5b4-4d6d-89f9-e1047dd5fd64"
      },
      "outputs": [
        {
          "name": "stdout",
          "output_type": "stream",
          "text": [
            "Probability Mass Function (PMF):\n",
            "P(X=1) = 0.17\n",
            "P(X=2) = 0.17\n",
            "P(X=3) = 0.17\n",
            "P(X=4) = 0.17\n",
            "P(X=5) = 0.17\n",
            "P(X=6) = 0.17\n",
            "\n",
            "Expected Value E(X): 3.50\n"
          ]
        }
      ],
      "source": [
        "class DiscreteRandomVariable:\n",
        "    def __init__(self, outcomes, probabilities):\n",
        "\n",
        "        if len(outcomes) != len(probabilities):\n",
        "            print(\"Outcomes and probabilities must have the same length.\")\n",
        "\n",
        "        if abs(sum(probabilities) - 1.0) > 1e-6:\n",
        "            print(\"The sum of probabilities must be 1.\")\n",
        "\n",
        "        self.outcomes = outcomes\n",
        "        self.probabilities = probabilities\n",
        "        self.pmf = dict(zip(outcomes, probabilities))  # Create a PMF dictionary\n",
        "\n",
        "    def get_pmf(self):\n",
        "        return self.pmf\n",
        "\n",
        "    def expected_value(self):\n",
        "        return sum(outcome * prob for outcome, prob in self.pmf.items())\n",
        "\n",
        "\n",
        "outcomes = [1, 2, 3, 4, 5, 6]\n",
        "probabilities = [1/6] * 6\n",
        "\n",
        "die_roll = DiscreteRandomVariable(outcomes, probabilities)\n",
        "\n",
        "print(\"Probability Mass Function (PMF):\")\n",
        "for outcome, prob in die_roll.get_pmf().items():\n",
        "    print(f\"P(X={outcome}) = {prob:.2f}\")\n",
        "\n",
        "expected_value = die_roll.expected_value()\n",
        "print(f\"\\nExpected Value E(X): {expected_value:.2f}\")"
      ]
    },
    {
      "cell_type": "code",
      "execution_count": 6,
      "metadata": {
        "colab": {
          "base_uri": "https://localhost:8080/",
          "height": 508
        },
        "id": "1z7HcVFfJJep",
        "outputId": "e0d71819-595a-49fd-f275-de3d52fb60d6"
      },
      "outputs": [
        {
          "output_type": "stream",
          "name": "stdout",
          "text": [
            "PDF at x = 1: 0.2420\n",
            "Probability of -1 <= X <= 1: 0.6827\n"
          ]
        },
        {
          "output_type": "display_data",
          "data": {
            "text/plain": [
              "<Figure size 640x480 with 1 Axes>"
            ],
            "image/png": "[encoded data removed]"
          },
          "metadata": {}
        }
      ],
      "source": [
        "import numpy as np\n",
        "import scipy.stats as stats\n",
        "import matplotlib.pyplot as plt\n",
        "\n",
        "class ContinuousRandomVariable:\n",
        "    def __init__(self, mean, std_dev):\n",
        "        self.mean = mean\n",
        "        self.std_dev = std_dev\n",
        "        self.distribution = stats.norm(loc=mean, scale=std_dev)  # Normal distribution\n",
        "\n",
        "    def pdf(self, x):\n",
        "        return self.distribution.pdf(x)\n",
        "\n",
        "    def probability_over_interval(self, a, b):\n",
        "        return self.distribution.cdf(b) - self.distribution.cdf(a)  # P(a <= X <= b)\n",
        "\n",
        "    def plot_pdf(self, start=-10, end=10):\n",
        "        x_values = np.linspace(start, end, 1000)\n",
        "        y_values = self.pdf(x_values)\n",
        "\n",
        "        plt.plot(x_values, y_values, label=\"PDF\")\n",
        "        plt.title(\"Probability Density Function (PDF)\")\n",
        "        plt.xlabel(\"x\")\n",
        "        plt.ylabel(\"f(x)\")\n",
        "        plt.grid(True)\n",
        "        plt.show()\n",
        "\n",
        "mean = 0\n",
        "std_dev = 1\n",
        "normal_rv = ContinuousRandomVariable(mean, std_dev)\n",
        "\n",
        "x = 1\n",
        "pdf_at_x = normal_rv.pdf(x)\n",
        "print(f\"PDF at x = {x}: {pdf_at_x:.4f}\")\n",
        "\n",
        "interval_probability = normal_rv.probability_over_interval(-1, 1)\n",
        "print(f\"Probability of -1 <= X <= 1: {interval_probability:.4f}\")\n",
        "\n",
        "normal_rv.plot_pdf(start=-3, end=3)"
      ]
    }
  ],
  "metadata": {
    "colab": {
      "provenance": [],
      "authorship_tag": "ABX9TyM8ZYna6sqDWkI/0frrxjVy",
      "include_colab_link": true
    },
    "kernelspec": {
      "display_name": "Python 3",
      "name": "python3"
    },
    "language_info": {
      "name": "python"
    }
  },
  "nbformat": 4,
  "nbformat_minor": 0
}