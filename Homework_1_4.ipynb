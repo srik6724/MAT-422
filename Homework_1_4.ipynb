{
  "nbformat": 4,
  "nbformat_minor": 0,
  "metadata": {
    "colab": {
      "provenance": [],
      "authorship_tag": "ABX9TyNCAyDgqN78EzTpuD/9Q1p7",
      "include_colab_link": true
    },
    "kernelspec": {
      "name": "python3",
      "display_name": "Python 3"
    },
    "language_info": {
      "name": "python"
    }
  },
  "cells": [
    {
      "cell_type": "markdown",
      "metadata": {
        "id": "view-in-github",
        "colab_type": "text"
      },
      "source": [
        "<a href=\"https://colab.research.google.com/github/srik6724/MAT-422/blob/main/Homework_1_4.ipynb\" target=\"_parent\"><img src=\"https://colab.research.google.com/assets/colab-badge.svg\" alt=\"Open In Colab\"/></a>"
      ]
    },
    {
      "cell_type": "markdown",
      "source": [
        "1.4.1 Singular value decomposition"
      ],
      "metadata": {
        "id": "ggmMEDzuXyz4"
      }
    },
    {
      "cell_type": "code",
      "execution_count": 1,
      "metadata": {
        "colab": {
          "base_uri": "https://localhost:8080/"
        },
        "id": "gJDp-8IJXoLf",
        "outputId": "1e99d093-5c05-45b2-c586-62ee3a98cab3"
      },
      "outputs": [
        {
          "output_type": "stream",
          "name": "stdout",
          "text": [
            "Matrix A:\n",
            "[[2 5 3]\n",
            " [7 5 6]\n",
            " [4 8 9]]\n",
            "\n",
            "U (Left singular vectors):\n",
            "[[-0.3444114   0.30329697 -0.8884772 ]\n",
            " [-0.5891658  -0.80664543 -0.04697666]\n",
            " [-0.73093395  0.50728108  0.45651009]]\n",
            "\n",
            "S (Singular values):\n",
            "[17.16615955  3.44166795  1.57413087]\n",
            "\n",
            "Vt (Right singular vectors):\n",
            "[[-0.45069599 -0.6125632  -0.6493377 ]\n",
            " [-0.87480832  0.44789514  0.1846628 ]\n",
            " [-0.17771756 -0.65127281  0.73773993]]\n",
            "\n",
            "Reconstructed Matrix A:\n",
            "[[2. 5. 3.]\n",
            " [7. 5. 6.]\n",
            " [4. 8. 9.]]\n"
          ]
        }
      ],
      "source": [
        "import numpy as np\n",
        "\n",
        "# Create a matrix\n",
        "A = np.array([[2, 5, 3],\n",
        "              [7, 5, 6],\n",
        "              [4, 8, 9]])\n",
        "\n",
        "# Perform Singular Value Decomposition\n",
        "U, S, Vt = np.linalg.svd(A)\n",
        "\n",
        "# Print the results\n",
        "print(\"Matrix A:\")\n",
        "print(A)\n",
        "print(\"\\nU (Left singular vectors):\")\n",
        "print(U)\n",
        "print(\"\\nS (Singular values):\")\n",
        "print(S)\n",
        "print(\"\\nVt (Right singular vectors):\")\n",
        "print(Vt)\n",
        "\n",
        "# Reconstruct the original matrix A using U, S, and Vt\n",
        "S_matrix = np.zeros(A.shape)\n",
        "S_matrix[:min(A.shape), :min(A.shape)] = np.diag(S)\n",
        "A_reconstructed = np.dot(U, np.dot(S_matrix, Vt))\n",
        "\n",
        "print(\"\\nReconstructed Matrix A:\")\n",
        "print(A_reconstructed)"
      ]
    },
    {
      "cell_type": "markdown",
      "source": [
        "1.4.2 Low-rank matrix approximations"
      ],
      "metadata": {
        "id": "axlMTrz8X576"
      }
    },
    {
      "cell_type": "code",
      "source": [
        "import numpy as np\n",
        "\n",
        "# Create a matrix\n",
        "A = np.array([[1, 2, 3],\n",
        "              [4, 5, 6],\n",
        "              [7, 8, 9]])\n",
        "\n",
        "# Perform Singular Value Decomposition\n",
        "U, S, Vt = np.linalg.svd(A)\n",
        "\n",
        "# Choose the rank (number of singular values to keep)\n",
        "k = 1  # Low-rank approximation (set k < min(A.shape))\n",
        "\n",
        "# Truncate U, S, Vt to rank k\n",
        "U_k = U[:, :k]\n",
        "S_k = np.diag(S[:k])\n",
        "Vt_k = Vt[:k, :]\n",
        "\n",
        "# Reconstruct the matrix using only the top k singular values\n",
        "A_approx = np.dot(U_k, np.dot(S_k, Vt_k))\n",
        "\n",
        "# Print the original and approximated matrices\n",
        "print(\"Original Matrix A:\")\n",
        "print(A)\n",
        "print(\"\\nLow-Rank Approximated Matrix A (rank {}):\".format(k))\n",
        "print(A_approx)"
      ],
      "metadata": {
        "colab": {
          "base_uri": "https://localhost:8080/"
        },
        "id": "PF9Pw9mdX9OC",
        "outputId": "d61cbbab-e452-4081-d8af-7b2cf7aa515f"
      },
      "execution_count": 3,
      "outputs": [
        {
          "output_type": "stream",
          "name": "stdout",
          "text": [
            "Original Matrix A:\n",
            "[[1 2 3]\n",
            " [4 5 6]\n",
            " [7 8 9]]\n",
            "\n",
            "Low-Rank Approximated Matrix A (rank 1):\n",
            "[[1.73621779 2.07174246 2.40726714]\n",
            " [4.2071528  5.02018649 5.83322018]\n",
            " [6.6780878  7.96863051 9.25917322]]\n"
          ]
        }
      ]
    },
    {
      "cell_type": "markdown",
      "source": [
        "1.4.3 Principal Component Analysis"
      ],
      "metadata": {
        "id": "AdMWeScCYJEv"
      }
    },
    {
      "cell_type": "code",
      "source": [
        "import numpy as np\n",
        "import matplotlib.pyplot as plt\n",
        "from sklearn.decomposition import PCA\n",
        "\n",
        "# Create a dataset (e.g., 5 samples and 3 features)\n",
        "data = np.array([[2.5, 2.4],\n",
        "                 [0.5, 0.7],\n",
        "                 [2.2, 2.9],\n",
        "                 [1.9, 2.2],\n",
        "                 [3.1, 3.0]])\n",
        "\n",
        "# Center the data by subtracting the mean\n",
        "mean = np.mean(data, axis=0)\n",
        "centered_data = data - mean\n",
        "\n",
        "# Perform PCA using sklearn (optional) or manually using SVD\n",
        "pca = PCA(n_components=2)\n",
        "pca_data = pca.fit_transform(centered_data)\n",
        "\n",
        "# Print the explained variance\n",
        "print(\"Explained Variance by Principal Components:\")\n",
        "print(pca.explained_variance_ratio_)\n",
        "\n",
        "# Print the principal components\n",
        "print(\"\\nPrincipal Components:\")\n",
        "print(pca.components_)\n",
        "\n",
        "# Visualize the data in the new principal component space\n",
        "plt.scatter(pca_data[:, 0], pca_data[:, 1])\n",
        "plt.title(\"PCA Result: 2 Principal Components\")\n",
        "plt.xlabel(\"PC 1\")\n",
        "plt.ylabel(\"PC 2\")\n",
        "plt.grid(True)\n",
        "plt.show()"
      ],
      "metadata": {
        "colab": {
          "base_uri": "https://localhost:8080/",
          "height": 579
        },
        "id": "xSMW-nwWYLhd",
        "outputId": "acbd965a-4ce3-4353-d12c-93d3a1775a97"
      },
      "execution_count": 2,
      "outputs": [
        {
          "output_type": "stream",
          "name": "stdout",
          "text": [
            "Explained Variance by Principal Components:\n",
            "[0.96989047 0.03010953]\n",
            "\n",
            "Principal Components:\n",
            "[[-0.72474155 -0.68902082]\n",
            " [-0.68902082  0.72474155]]\n"
          ]
        },
        {
          "output_type": "display_data",
          "data": {
            "text/plain": [
              "<Figure size 640x480 with 1 Axes>"
            ],
            "image/png": "[encoded data removed]"
          },
          "metadata": {}
        }
      ]
    }
  ]
}