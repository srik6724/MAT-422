{
  "nbformat": 4,
  "nbformat_minor": 0,
  "metadata": {
    "colab": {
      "provenance": [],
      "authorship_tag": "ABX9TyNxjEuZRnwrnSj1u/mcuS9n",
      "include_colab_link": true
    },
    "kernelspec": {
      "name": "python3",
      "display_name": "Python 3"
    },
    "language_info": {
      "name": "python"
    }
  },
  "cells": [
    {
      "cell_type": "markdown",
      "metadata": {
        "id": "view-in-github",
        "colab_type": "text"
      },
      "source": [
        "<a href=\"https://colab.research.google.com/github/srik6724/MAT-422/blob/main/Homework_1_3.ipynb\" target=\"_parent\"><img src=\"https://colab.research.google.com/assets/colab-badge.svg\" alt=\"Open In Colab\"/></a>"
      ]
    },
    {
      "cell_type": "markdown",
      "source": [
        "1.3.1 QR Decomposition"
      ],
      "metadata": {
        "id": "D3EjfIWcAAUP"
      }
    },
    {
      "cell_type": "code",
      "execution_count": 1,
      "metadata": {
        "colab": {
          "base_uri": "https://localhost:8080/"
        },
        "id": "eklSWBsT_5Yf",
        "outputId": "7745c3f1-5902-41f6-e474-337496b55bf8"
      },
      "outputs": [
        {
          "output_type": "stream",
          "name": "stdout",
          "text": [
            "Vector A\n",
            "[[ 10   5   8]\n",
            " [-11   8   4]\n",
            " [ 72  12   3]]\n",
            "v1, v2, and v3\n",
            "[ 10 -11  72] [ 5  8 12] [8 4 3]\n",
            "Normalize v1\n",
            "u1 = v1/length of v1\n",
            "u1 =  [ 0.13601981 -0.14962179  0.9793426 ]\n",
            "Now make v2 orthogonal to u1.\n",
            "u2 = v2 - Proj(v1)v2\n",
            "u2 =  [3.47178538 9.68103608 0.99685476]\n",
            "Normalize u2\n",
            "u2 =  [0.3359923  0.9369109  0.09647357]\n",
            "Now make v3 orthogonal to u1 and u2.\n",
            "u3 = v3 - ((v3dotu1)u1 + ((v3dotu2)u2)\n",
            "u3 =  [ 5.27421594 -1.78786981 -1.00567677]\n",
            "Normalize u3\n",
            "u3 =  [ 0.9319913  -0.31592926 -0.17771021]\n",
            "Vector Q = [u1, u2, u3]\n"
          ]
        }
      ],
      "source": [
        "import numpy as np\n",
        "A = np.array([[10,5,8],[-11,8,4],[72,12,3]])\n",
        "print(\"Vector A\")\n",
        "print(A)\n",
        "v1 = np.array([10,-11,72])\n",
        "v2 = np.array([5,8,12])\n",
        "v3 = np.array([8,4,3])\n",
        "print(\"v1, v2, and v3\")\n",
        "print(v1, v2, v3)\n",
        "print(\"Normalize v1\")\n",
        "print(\"u1 = v1/length of v1\")\n",
        "lengthv1 = np.linalg.norm(v1)\n",
        "u1 = v1/np.linalg.norm(v1)\n",
        "print(\"u1 = \",u1)\n",
        "print(\"Now make v2 orthogonal to u1.\")\n",
        "print(\"u2 = v2 - Proj(v1)v2\")\n",
        "proj_of_v2_on_v1 = (np.dot(v2, v1)/lengthv1**2)*v1\n",
        "U2 = v2 - proj_of_v2_on_v1\n",
        "print(\"u2 = \", U2)\n",
        "print(\"Normalize u2\")\n",
        "lengthU2 = np.linalg.norm(U2)\n",
        "u2 = U2/np.linalg.norm(U2)\n",
        "print(\"u2 = \", u2)\n",
        "print(\"Now make v3 orthogonal to u1 and u2.\")\n",
        "print(\"u3 = v3 - ((v3dotu1)u1 + ((v3dotu2)u2)\")\n",
        "a = (np.dot(v3, u1))\n",
        "b = (np.dot(v3, u2))\n",
        "U3 = v3 - ((np.multiply(a,u1)) + (np.multiply(b,u2)) )\n",
        "print(\"u3 = \", U3)\n",
        "print(\"Normalize u3\")\n",
        "lengthU3 = np.linalg.norm(U3)\n",
        "u3 = U3/np.linalg.norm(U3)\n",
        "print(\"u3 = \", u3)\n",
        "print(\"Vector Q = [u1, u2, u3]\")\n",
        "print(\"Each vector u1, u2, and u3 are normalized and they are orthogonal to one another, with a dot-product of zero.\")"
      ]
    },
    {
      "cell_type": "markdown",
      "source": [
        "1.3.2 Least-Squares problems"
      ],
      "metadata": {
        "id": "YjIK2_-nQd75"
      }
    },
    {
      "cell_type": "code",
      "source": [
        "import numpy as np\n",
        "def gram_schmidt(A):\n",
        "    Q=np.zeros_like(A)\n",
        "    cnt = 0\n",
        "    for a in A.T:\n",
        "        u = np.copy(a)\n",
        "        for i in range(0, cnt):\n",
        "            u -= np.dot(np.dot(Q[:, i].T, a), Q[:, i])\n",
        "        e = u / np.linalg.norm(u)\n",
        "        Q[:, cnt] = e\n",
        "        cnt += 1\n",
        "    R = np.dot(Q.T, A)\n",
        "    return (Q, R)\n",
        "\n",
        "np.set_printoptions(precision=4, suppress=True)\n",
        "A = np.array([[2,-2],[2, 0],[2, 2]], dtype = float)\n",
        "\n",
        "(Q, R) = gram_schmidt(A)\n",
        "print(Q)\n",
        "print(R)\n",
        "print(np.dot(Q, R))"
      ],
      "metadata": {
        "colab": {
          "base_uri": "https://localhost:8080/"
        },
        "id": "YuwLSyzwRHXJ",
        "outputId": "145f0ce3-5b83-4326-c872-b001ccb30b12"
      },
      "execution_count": 3,
      "outputs": [
        {
          "output_type": "stream",
          "name": "stdout",
          "text": [
            "[[ 0.5774 -0.7071]\n",
            " [ 0.5774  0.    ]\n",
            " [ 0.5774  0.7071]]\n",
            "[[3.4641 0.    ]\n",
            " [0.     2.8284]]\n",
            "[[ 2. -2.]\n",
            " [ 2.  0.]\n",
            " [ 2.  2.]]\n"
          ]
        }
      ]
    },
    {
      "cell_type": "code",
      "source": [
        "import numpy as np\n",
        "b = np.array([[-4],[4],[6]], dtype = float)\n",
        "print(\"Vector b\")\n",
        "print(b)\n",
        "QT = np.transpose(Q)\n",
        "print(\"Q Transposed\")\n",
        "print(QT)\n",
        "R1 = np.linalg.inv(R)\n",
        "print(\"Inverse of R\")\n",
        "print(R1)\n",
        "print(\"x = R^-1*Q(Transposed)b\")\n",
        "mult1 = np.dot(QT,b)\n",
        "mult2 = np.dot(R1,mult1)\n",
        "print(mult2)"
      ],
      "metadata": {
        "colab": {
          "base_uri": "https://localhost:8080/"
        },
        "id": "mMLM9HYBR4lC",
        "outputId": "288180b9-2a50-4327-8cea-cddc4c664f1e"
      },
      "execution_count": 4,
      "outputs": [
        {
          "output_type": "stream",
          "name": "stdout",
          "text": [
            "Vector b\n",
            "[[-4.]\n",
            " [ 4.]\n",
            " [ 6.]]\n",
            "Q Transposed\n",
            "[[ 0.5774  0.5774  0.5774]\n",
            " [-0.7071  0.      0.7071]]\n",
            "Inverse of R\n",
            "[[0.2887 0.    ]\n",
            " [0.     0.3536]]\n",
            "x = R^-1*Q(Transposed)b\n",
            "[[1. ]\n",
            " [2.5]]\n"
          ]
        }
      ]
    },
    {
      "cell_type": "markdown",
      "source": [
        "1.3.3 Linear Regression"
      ],
      "metadata": {
        "id": "lEXVIc88S_Mh"
      }
    },
    {
      "cell_type": "code",
      "source": [
        "import numpy as np\n",
        "import matplotlib.pyplot as plt\n",
        "\n",
        "# Set a seed for reproducibility\n",
        "np.random.seed(0)\n",
        "\n",
        "# Generate synthetic data\n",
        "X = 2 * np.random.rand(100, 1)  # 100 data points with 1 feature\n",
        "y = 4 + 3 * X + np.random.randn(100, 1)  # Linear relationship with some noise\n",
        "\n",
        "# Add x0 = 1 to each instance to account for the bias term (intercept)\n",
        "X_b = np.c_[np.ones((100, 1)), X]\n",
        "\n",
        "# Compute the optimal parameters using the Normal Equation\n",
        "theta_best = np.linalg.inv(X_b.T @ X_b) @ X_b.T @ y\n",
        "\n",
        "# Predict using the computed parameters\n",
        "X_new = np.array([[0], [2]])\n",
        "X_new_b = np.c_[np.ones((2, 1)), X_new]\n",
        "y_predict = X_new_b @ theta_best\n",
        "\n",
        "# Plot the data and the best-fit line\n",
        "plt.plot(X, y, \"b.\", label=\"Data\")\n",
        "plt.plot(X_new, y_predict, \"r-\", label=\"Best Fit Line\")\n",
        "plt.xlabel(\"X\")\n",
        "plt.ylabel(\"y\")\n",
        "plt.legend()\n",
        "plt.show()"
      ],
      "metadata": {
        "colab": {
          "base_uri": "https://localhost:8080/",
          "height": 449
        },
        "id": "KIJ63tRrTau3",
        "outputId": "a0df23ae-a238-4e99-9abd-00eddaff3ed3"
      },
      "execution_count": 5,
      "outputs": [
        {
          "output_type": "display_data",
          "data": {
            "text/plain": [
              "<Figure size 640x480 with 1 Axes>"
            ],
            "image/png": "[encoded data removed]"
          },
          "metadata": {}
        }
      ]
    }
  ]
}