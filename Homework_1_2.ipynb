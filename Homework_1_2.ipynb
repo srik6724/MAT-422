{
  "nbformat": 4,
  "nbformat_minor": 0,
  "metadata": {
    "colab": {
      "provenance": [],
      "authorship_tag": "ABX9TyMAvR/pUwiEUfF7t8uA/zYI",
      "include_colab_link": true
    },
    "kernelspec": {
      "name": "python3",
      "display_name": "Python 3"
    },
    "language_info": {
      "name": "python"
    }
  },
  "cells": [
    {
      "cell_type": "markdown",
      "metadata": {
        "id": "view-in-github",
        "colab_type": "text"
      },
      "source": [
        "<a href=\"https://colab.research.google.com/github/srik6724/MAT-422/blob/main/Homework_1_2.ipynb\" target=\"_parent\"><img src=\"https://colab.research.google.com/assets/colab-badge.svg\" alt=\"Open In Colab\"/></a>"
      ]
    },
    {
      "cell_type": "code",
      "execution_count": null,
      "metadata": {
        "id": "0rxx7lBA9YBf"
      },
      "outputs": [],
      "source": []
    },
    {
      "cell_type": "markdown",
      "source": [
        "1.2.1 Linear Spaces"
      ],
      "metadata": {
        "id": "g5-M7i70hq6t"
      }
    },
    {
      "cell_type": "code",
      "source": [
        "import numpy as np\n",
        "v1 = [1, 2, 3]\n",
        "v2 = [4, 5, 6]\n",
        "v3 = [1, 5, 3]\n",
        "\n",
        "x = np.array(v1)\n",
        "y = np.array(v2);\n",
        "z = np.array(v3);\n",
        "\n",
        "print(\"Addition operation\")\n",
        "\n",
        "result_addition_1 = x + y;\n",
        "result_addition_2 = y + z;\n",
        "result_addition_3 = z + x;\n",
        "result_addition_4 = x + y + z;\n",
        "\n",
        "print(\"Result Addition 1: \" + str(result_addition_1))\n",
        "print(\"Result Addition 2: \" + str(result_addition_2))\n",
        "print(\"Result Addition 3: \" + str(result_addition_3))\n",
        "print(\"Result Addition 4: \"  + str(result_addition_4))\n",
        "\n",
        "print(\"Scaling operation\")\n",
        "\n",
        "result_scaling_1 = 2 * x\n",
        "result_scaling_2 = 3 * y\n",
        "result_scaling_3 = 1 * z\n",
        "\n",
        "print(\"Result Scaling 1: \" + str(result_scaling_1))\n",
        "print(\"Result Scaling 2: \" + str(result_scaling_2))\n",
        "print(\"Result Scaling 3: \" + str(result_scaling_3))\n",
        "\n",
        "print(\"Addition and Scaling operation\")\n",
        "\n",
        "result_addition_scaling_1 = (2 * x) + y;\n",
        "result_addition_scaling_2 = (3 * z) + y;\n",
        "result_addition_scaling_3 = (1 * y) + (3 * z);\n",
        "result_addition_scaling_4 = (2 * x) + (3 * z) + (6 * y);\n",
        "\n",
        "print(\"Result Addition Scaling 1: \" + str(result_addition_scaling_1))\n",
        "print(\"Result Addition Scaling 2: \" + str(result_addition_scaling_2));\n",
        "print(\"Result Addition Scaling 3: \" + str(result_addition_scaling_3));\n",
        "print(\"Result Addition Scaling 4: \" + str(result_addition_scaling_4));\n",
        "\n",
        "print(\"Given that x, y, and z are inside U, a linear subspace, any combinations by scaling and addition of the vectors x, y, and z will also be inside U. \")\n"
      ],
      "metadata": {
        "colab": {
          "base_uri": "https://localhost:8080/"
        },
        "id": "RX90NE2KhfyS",
        "outputId": "5995b506-4142-4bcd-86cd-819d7c0d8dd7"
      },
      "execution_count": null,
      "outputs": [
        {
          "output_type": "stream",
          "name": "stdout",
          "text": [
            "Addition operation\n",
            "Result Addition 1: [5 7 9]\n",
            "Result Addition 2: [ 5 10  9]\n",
            "Result Addition 3: [2 7 6]\n",
            "Result Addition 4: [ 6 12 12]\n",
            "Scaling operation\n",
            "Result Scaling 1: [2 4 6]\n",
            "Result Scaling 2: [12 15 18]\n",
            "Result Scaling 3: [1 5 3]\n",
            "Addition and Scaling operation\n",
            "Result Addition Scaling 1: [ 6  9 12]\n",
            "Result Addition Scaling 2: [ 7 20 15]\n",
            "Result Addition Scaling 3: [ 7 20 15]\n",
            "Result Addition Scaling 4: [29 49 51]\n"
          ]
        }
      ]
    },
    {
      "cell_type": "markdown",
      "source": [
        "Linear Combination of Vectors"
      ],
      "metadata": {
        "id": "lzzikmZxjXuW"
      }
    },
    {
      "cell_type": "code",
      "source": [
        "import numpy as np\n",
        "\n",
        "print(\"Span of a set of vectors -> linear subspace\")\n",
        "print(\"Generate a number of linear combinations using addition or scaling or neither to form vectors inside linear subspace\");\n",
        "\n",
        "print(\"Defining 3 vectors\")\n",
        "\n",
        "v1 = [0, 5, 4]\n",
        "v2 = [2, 8, 5]\n",
        "v3 = [4, 7, 9]\n",
        "\n",
        "lc1 = (2 * np.array(v1)) + np.array(v2);\n",
        "lc2 = np.array(v2) + np.array(v3);\n",
        "lc3 = np.array(v1) + np.array(v2) + np.array(v3);\n",
        "lc4 = np.array(v1);\n",
        "lc5 = np.array(v2);\n",
        "lc6 = np.array(v3);\n",
        "\n",
        "print(\"Above shows the linear combinations that can be defined by a span.\");\n",
        "print(\"The resultant vector from each of those linear combinations is part of the spanning set -> linear subspace.\");\n",
        "\n",
        "s1 = [str(lc1), str(lc2), str(lc3), str(lc4), str(lc5), str(lc6)];\n",
        "print(\"Spanning set s1: \" + str(s1));"
      ],
      "metadata": {
        "colab": {
          "base_uri": "https://localhost:8080/"
        },
        "id": "IK6G1PjCjRYp",
        "outputId": "e9b9d19e-5397-47f4-a0c4-e9869b19c16f"
      },
      "execution_count": null,
      "outputs": [
        {
          "output_type": "stream",
          "name": "stdout",
          "text": [
            "Span of a set of vectors -> linear subspace\n",
            "Generate a number of linear combinations using addition or scaling or neither to form vectors inside linear subspace\n",
            "Defining 3 vectors\n",
            "Above shows the linear combinations that can be defined by a span.\n",
            "The resultant vector from each of those linear combinations is part of the spanning set -> linear subspace.\n",
            "Spanning set s1: ['[ 2 18 13]', '[ 6 15 14]', '[ 6 20 18]', '[0 5 4]', '[2 8 5]', '[4 7 9]']\n"
          ]
        }
      ]
    },
    {
      "cell_type": "markdown",
      "source": [
        "Span of Linear Combinations Of Vectors Inside Linear Subspace U"
      ],
      "metadata": {
        "id": "mGNVO0Evr4SP"
      }
    },
    {
      "cell_type": "code",
      "source": [
        "import numpy as np\n",
        "\n",
        "print(\"Column space of a vector\")\n",
        "\n",
        "v1 = [2, 5, 8]\n",
        "\n",
        "for element in v1:\n",
        "  print(str(element));\n",
        "\n",
        "print(\"Linear independence of vectors\")\n",
        "\n",
        "v1 = [1, 2, 3]\n",
        "v2 = [4, 8, 7]\n",
        "v3 = [8, 16, 14]\n",
        "\n",
        "print(\"Given the 3 vectors, linear independence of a vector is possible if linear combination of other vectors != particular vector\")\n",
        "\n",
        "print(\"Linear independent vector v1: \" + str(np.array(v1)));\n",
        "\n",
        "print(\"Linear dependence of vectors\")\n",
        "\n",
        "print(\"Given the 3 vectors, linear dependence of a vector is possible if linear combination of other vectors = particular vector\")\n",
        "\n",
        "dv1 = 2 * np.array(v2);\n",
        "dv2 = 0.5 * np.array(v3);\n",
        "\n",
        "print(\"Linear dependent vector v3: \" + str(dv1));\n",
        "print(\"Linear dependent vector v2: \" + str(dv2));"
      ],
      "metadata": {
        "colab": {
          "base_uri": "https://localhost:8080/"
        },
        "id": "uhoiJ8NIsBOI",
        "outputId": "718b597a-a466-4291-a100-5c2a24c88031"
      },
      "execution_count": null,
      "outputs": [
        {
          "output_type": "stream",
          "name": "stdout",
          "text": [
            "Column space of a vector\n",
            "2\n",
            "5\n",
            "8\n",
            "Linear independence of vectors\n",
            "Given the 3 vectors, linear independence of a vector is possible if linear combination of other vectors != particular vector\n",
            "Linear independent vector v1: [1 2 3]\n",
            "Linear dependence of vectors\n",
            "Given the 3 vectors, linear dependence of a vector is possible if linear combination of other vectors = particular vector\n",
            "Linear dependent vector v3: [ 8 16 14]\n",
            "Linear dependent vector v2: [4. 8. 7.]\n"
          ]
        }
      ]
    },
    {
      "cell_type": "markdown",
      "source": [
        "Linear Independence, Dependence, Column Space"
      ],
      "metadata": {
        "id": "0O9g8P_9waRD"
      }
    },
    {
      "cell_type": "code",
      "source": [
        "import numpy as np\n",
        "\n",
        "print(\"Concept of Basis and its correlation towards number of dimensions\")\n",
        "\n",
        "v1 = [1, 5, 7]\n",
        "v2 = [2, 4, 9]\n",
        "v3 = [0, 3, 8]\n",
        "\n",
        "v4 = [4, 7, 9]\n",
        "v5 = [10, 12, 15]\n",
        "v6 = [1, 8, 2]\n",
        "\n",
        "b1 = [str(np.array(v1)), str(np.array(v2)), str(np.array(v3))]\n",
        "b2 = [str(np.array(v4)), str(np.array(v5)), str(np.array(v6))]\n",
        "\n",
        "print(\"Basis 1: \" + str(b1))\n",
        "print(\"Basis 2: \" + str(b2))\n",
        "\n",
        "print(\"The dimensional space will span R^3\")\n",
        "print(\"Number of vectors inside the basis is 3\")\n",
        "\n",
        "print(\"Dimension of Basis is determined by number of vectors inside the basis\")\n",
        "\n",
        "vx = [2, 4]\n",
        "vy = [4, 8]\n",
        "vz = [1, 2]\n",
        "\n",
        "print(\"For span (vx, vy, vz) in U, linear subspace, span (vx, vz) = span(vy, vz) = span(vx, vy, vz)\")\n",
        "print(\"This works since vy = 2 * vx and vx = 0.5 * vy. Either vector does not need to be included inside span, due to a linear combination that can be generated for that vector.\")\n",
        "\n"
      ],
      "metadata": {
        "colab": {
          "base_uri": "https://localhost:8080/"
        },
        "id": "WSfqyjNSwghN",
        "outputId": "12207ee6-3ed4-429d-ae0c-cd500653348f"
      },
      "execution_count": null,
      "outputs": [
        {
          "output_type": "stream",
          "name": "stdout",
          "text": [
            "Concept of Basis and its correlation towards number of dimensions\n",
            "Basis 1: ['[1 5 7]', '[2 4 9]', '[0 3 8]']\n",
            "Basis 2: ['[4 7 9]', '[10 12 15]', '[1 8 2]']\n",
            "The dimensional space will span R^3\n",
            "Number of vectors inside the basis is 3\n",
            "Dimension of Basis is determined by number of vectors inside the basis\n",
            "For span (vx, vy, vz) in U, linear subspace, span (vx, vz) = span(vy, vz) = span(vx, vy, vz)\n",
            "This works since vy = 2 * vx and vx = 0.5 * vy. Either vector does not need to be included inside span, due to a linear combination that can be generated for that vector.\n"
          ]
        }
      ]
    },
    {
      "cell_type": "markdown",
      "source": [
        "Dimemsnion Theorem, Lemma of Dimension Theorem"
      ],
      "metadata": {
        "id": "hOKx7On12dwU"
      }
    },
    {
      "cell_type": "markdown",
      "source": [
        "1.2.2 Orthogonality"
      ],
      "metadata": {
        "id": "qMvVTQen2lpw"
      }
    },
    {
      "cell_type": "code",
      "source": [
        "import numpy as np\n",
        "\n",
        "print(\"Orthonormal set of vectors where 2 vectors chosen from list = 0 and magnitude of each vector = 1\")\n",
        "\n",
        "v1 = [3/5, 4/5]\n",
        "v2 = [-4/3, 1]\n",
        "\n",
        "on1 = np.dot(v1, v2);\n",
        "\n",
        "print(\"Dot Product of v1 and v2 = \" + str(round(on1)));\n",
        "\n",
        "print(\"Magnitude of v1: \" + str(np.linalg.norm(v1)));\n",
        "print(\"Magnitude of v2: \" + str(np.linalg.norm(v2)));"
      ],
      "metadata": {
        "colab": {
          "base_uri": "https://localhost:8080/"
        },
        "id": "yBXQwgEa2pUz",
        "outputId": "106ed224-c389-436d-c90e-cee5f8b5d22e"
      },
      "execution_count": null,
      "outputs": [
        {
          "output_type": "stream",
          "name": "stdout",
          "text": [
            "Orthonormal set of vectors where 2 vectors chosen from list = 0 and magnitude of each vector = 1\n",
            "Dot Product of v1 and v2 = 0\n",
            "Magnitude of v1: 1.0\n",
            "Magnitude of v2: 1.6666666666666667\n"
          ]
        }
      ]
    },
    {
      "cell_type": "markdown",
      "source": [
        "1.2.3 Gram-Schmidt Process"
      ],
      "metadata": {
        "id": "5vo5-4yTJPs4"
      }
    },
    {
      "cell_type": "code",
      "source": [
        "import numpy as np\n",
        "\n",
        "print(\"Demonstrating the steps of the Gram-Schmidt process in action to find orthonormal vectors to v1.\")\n",
        "\n",
        "v1 = [1,1,1]\n",
        "v2 = [6, 4, 5]\n",
        "\n",
        "y1 = np.array(v1)\n",
        "comp1 = y1;\n",
        "comp2 = np.dot(y1, v2)\n",
        "comp3 = np.dot(y1, y1)\n",
        "comp_sub = comp1 * (comp2 / comp3)\n",
        "y2 = np.array(v2) - comp_sub\n",
        "\n",
        "print(\"Orthogonal Vector y2 to v1: \" + str(y2));\n",
        "\n",
        "print(\"Converting the orthogonal vector to an orthonormal vector\")\n",
        "\n",
        "on1_comp = y2 / np.linalg.norm(y2);\n",
        "\n",
        "print(\"Orthonormal Vector Result: \" + str(on1_comp))\n",
        "\n"
      ],
      "metadata": {
        "colab": {
          "base_uri": "https://localhost:8080/"
        },
        "id": "TY-eesSPJSR8",
        "outputId": "ee6cb06f-c1a5-4c6d-eab0-2dd8370bfb1b"
      },
      "execution_count": null,
      "outputs": [
        {
          "output_type": "stream",
          "name": "stdout",
          "text": [
            "Demonstrating the steps of the Gram-Schmidt process in action to find orthonormal vectors to v1.\n",
            "Orthogonal Vector y2 to v1: [ 1. -1.  0.]\n",
            "Converting the orthogonal vector to an orthonormal vector\n",
            "Orthonormal Vector Result: [ 0.70710678 -0.70710678  0.        ]\n"
          ]
        }
      ]
    },
    {
      "cell_type": "markdown",
      "source": [
        "1.2.4 Eigenvalues and Eigenvectors"
      ],
      "metadata": {
        "id": "h3JBSFMHOHsa"
      }
    },
    {
      "cell_type": "code",
      "source": [
        "import numpy as np\n",
        "\n",
        "X = np.array([[7, 3], [3, -1]]);\n",
        "\n",
        "eigenvalues, eigenvectors = np.linalg.eig(X)\n",
        "\n",
        "for value in eigenvalues:\n",
        "  print(\"Eigenvalue: \" + str(value));\n",
        "\n",
        "for vector in eigenvectors:\n",
        "  print(\"Eigenvector: \" + str(vector));\n",
        "\n",
        "print(\"The eigenvalues and eigenvectors here provide a lot of area for analysis in matrix transformations, rotations in a dimensional space.\")"
      ],
      "metadata": {
        "colab": {
          "base_uri": "https://localhost:8080/"
        },
        "id": "o0ADX6EUOKpc",
        "outputId": "1398e5e8-9a3d-4188-9db5-e6111441fdd4"
      },
      "execution_count": null,
      "outputs": [
        {
          "output_type": "stream",
          "name": "stdout",
          "text": [
            "Eigenvalue: 8.0\n",
            "Eigenvalue: -2.0\n",
            "Eigenvector: [ 0.9486833  -0.31622777]\n",
            "Eigenvector: [0.31622777 0.9486833 ]\n",
            "The eigenvalues and eigenvectors here provide a lot of area for analysis in matrix transformations, rotations in a dimensional space.\n"
          ]
        }
      ]
    }
  ]
}